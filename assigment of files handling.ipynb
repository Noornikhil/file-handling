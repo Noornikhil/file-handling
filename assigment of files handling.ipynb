{
 "cells": [
  {
   "cell_type": "code",
   "execution_count": null,
   "id": "5dc4429b-d4ad-4a21-9e32-15df452405c2",
   "metadata": {},
   "outputs": [],
   "source": [
    "1. What is the difference between interpreted and compiled languages? \n",
    "=> Interpreted Languages = Executed directly without separated compliation step to convert into the code.\n",
    "    Python uses mix of interpretation and compilation .\n",
    "=> Compiled language = source code => compiler => execution . \n",
    "    compiler = source code is transfereed into machine code by compiler machine code -> bytes code -> a mechine language that can understand by the CPU.\n",
    "        Ex = C,C++,swift, java is both IDE and compiler."
   ]
  },
  {
   "cell_type": "code",
   "execution_count": null,
   "id": "52e9a50a-d1e6-4192-ad43-1679971c5d47",
   "metadata": {},
   "outputs": [],
   "source": [
    "2. What is exception handling in Python?\n",
    "=> you were expecting something but it didnt happen , due to which the suspicious line threw error and the next line of code didntgot executed .\n",
    "zerodivisionerror , typeerror, filenotfounderror , these are exception rising due to suspicious code ,other exceptions import error Buffererror , runtime error.\n"
   ]
  },
  {
   "cell_type": "code",
   "execution_count": null,
   "id": "86da30d4-be24-491c-8ba3-c19f3a7e3ce4",
   "metadata": {},
   "outputs": [],
   "source": [
    "3. What is the purpose of the finally block in exception handling\n",
    "\n",
    "2/3\n",
    "\n",
    "Pwskills\n",
    "\n",
    "1. What is logging in Python?\n",
    "\n",
    "\n",
    "\n",
    "what is the difference between import and from Import in Pythont\n",
    "\n",
    "How can you handle multiple exceptons in Pythons\n",
    "\n",
    "what is the purpose of the with staternent when handling flies in Python\n",
    "\n",
    "What is the difference between multithreading and multiprocessing?\n",
    "\n",
    "What are the advantages of using ingging in a program"
   ]
  },
  {
   "cell_type": "code",
   "execution_count": null,
   "id": "89fc53fe-243d-4d4f-b753-4dc6ac30ab43",
   "metadata": {},
   "outputs": [],
   "source": [
    "3. What is the purpose of the finally block in exception handling ?\n",
    "=> Finally block code used to define code that always runs weather exception occur or not .\n",
    "    Purpose = close files , stop background process."
   ]
  },
  {
   "cell_type": "code",
   "execution_count": null,
   "id": "8ad8fc9a-1ed0-4048-b213-fe41218c368f",
   "metadata": {},
   "outputs": [],
   "source": [
    "4. What is logging in Python?\n",
    "=>  logging => it records the state and flow of your program/code/software.\n",
    "    it is usefull for understanding , monitoring and debugging of your code \n",
    "    it shows how to program behaves over time ."
   ]
  },
  {
   "cell_type": "code",
   "execution_count": null,
   "id": "11e5d05f-d8a1-42d2-8c64-fc3ed9bdd28d",
   "metadata": {},
   "outputs": [],
   "source": [
    "5 .What is the significance of the __del__ method in Python ?\n",
    "=> The __del__() method in Python is called a destructor.\n",
    "   Its main purpose is to define cleanup actions when an object is about to be destroyed .\n",
    "    .Closing a file\n",
    "    .Disconnecting from a database\n",
    "    .Releasing memory or handles\n",
    "\n"
   ]
  },
  {
   "cell_type": "code",
   "execution_count": null,
   "id": "9530133f-7025-4871-9d10-50cb4ffaa711",
   "metadata": {},
   "outputs": [],
   "source": [
    "6. What is the difference between import and from ... import in Python?\n",
    "=> import and from... import both are used to include external module from different libraries. \n",
    "   import => it import from module from different function .\n",
    "   from ... import => it import a specific function through module .\n",
    "       you can use specifc module name to import the function ."
   ]
  },
  {
   "cell_type": "code",
   "execution_count": 6,
   "id": "2b33aac1-676a-4159-a7a3-79af74fb64b9",
   "metadata": {},
   "outputs": [
    {
     "name": "stdout",
     "output_type": "stream",
     "text": [
      "this is error  unsupported operand type(s) for /: 'int' and 'str'\n"
     ]
    }
   ],
   "source": [
    "#7. How can you handle multiple exceptions in Python ?\n",
    "try:\n",
    "    result = 10 / \"No\"\n",
    "except TypeError as e:\n",
    "    print(\"this is error \",e)\n",
    "except ZeroDivisionError as e:\n",
    "    print(\"Cannot divide by zero.\",e)\n"
   ]
  },
  {
   "cell_type": "code",
   "execution_count": null,
   "id": "53a0adbc-9adc-4023-bdcd-4bb22a86dd0e",
   "metadata": {},
   "outputs": [],
   "source": [
    "8 What is the purpose of the with statement when handling files in Python? \n",
    "=> with statement ensures that the file is closed properly after the block of code execuded .\n",
    "   Important => free up system resources anf avoid issues like data corruption or file lock."
   ]
  },
  {
   "cell_type": "code",
   "execution_count": null,
   "id": "e4ed9195-394a-4301-ba29-5c4aad7f45f3",
   "metadata": {},
   "outputs": [],
   "source": [
    "9. What is the difference between multithreading and multiprocessing? \n",
    "=>  Multithreading -> since it happens on one processor threads share same memory space and resource within a process .\n",
    "             Usecase = I/O process like downloading the file . best for task that are part of some application and need to share data or resource.\n",
    "    Multiprocessing -> Multiple cores/ process are there each process has its own memory space and resource which are isolated from otehr process.\n",
    "             Usecase = Suitable for tasks that independent and can run isolation ."
   ]
  },
  {
   "cell_type": "code",
   "execution_count": null,
   "id": "1d8b55f6-b9fc-4c60-a696-5f6c8629b45d",
   "metadata": {},
   "outputs": [],
   "source": [
    "10. What are the advantages of using logging in a program ?\n",
    "=> Logging supports different levels of logging which helps to categorize message based on their severity \n",
    "   it is usefull for understanding , monitoring and debugging of your code \n",
    "   it shows how to program behaves over time \n",
    "\n",
    "   Analogy => different level of severity if terror attack => can go to emergency \n",
    "    similarly in logging we have different levels "
   ]
  },
  {
   "cell_type": "code",
   "execution_count": null,
   "id": "62eb31e8-6689-41aa-bc6e-7b46ff1ee86f",
   "metadata": {},
   "outputs": [],
   "source": [
    "11. What is memory management in Python? \n",
    "=> Memory management in Python refers to how Python allocates, uses, and frees up memory while your program runs.\n",
    "   It ensures that:\n",
    "   You get memory when needed\n",
    "   Unused memory is cleaned automatically\n",
    "   Your program runs efficiently\n",
    "\n"
   ]
  },
  {
   "cell_type": "code",
   "execution_count": null,
   "id": "c964ffa0-d04b-4b65-b6fa-0609efbb70a7",
   "metadata": {},
   "outputs": [],
   "source": [
    "12. What are the basic steps involved in exception handling in Python?\n",
    "=> using try catch block to handle exceptions \n",
    "=> whenever exceptions occurs = python stops the program and generate exceptions \n",
    "=> handling this exceptions is advised \n",
    "=> every code that is risky/ suspicious you should do exception handling \n",
    " try:\n",
    "    # suspicious code \n",
    "except:\n",
    "    # exceuted when exception occurs in try block.\n",
    "    "
   ]
  },
  {
   "cell_type": "code",
   "execution_count": null,
   "id": "56cf2da9-b6dc-4af0-b209-b2e40ef379eb",
   "metadata": {},
   "outputs": [],
   "source": [
    "13.Why is memory management important in Python?\n",
    "=> Memory management = it helps efficient use of system resouce , cleanup garbage,improve memory function , and avoid memory leaks ."
   ]
  },
  {
   "cell_type": "code",
   "execution_count": null,
   "id": "fd54a3a0-3d30-4801-b17e-d1cbb039fdb0",
   "metadata": {},
   "outputs": [],
   "source": [
    "14.What is the role of try and except in exception handling ?\n",
    "\n",
    "try:\n",
    "    # suspicious code \n",
    "except:\n",
    "    # exceuted when exception occurs in try block.\n",
    "=> using try catch block to handle exceptions \n",
    "=> whenever exceptions occurs = python stops the program and generate exceptions \n",
    "=> handling this exceptions is advised \n",
    "=> every code that is risky/ suspicious you should do exception handling \n"
   ]
  },
  {
   "cell_type": "code",
   "execution_count": null,
   "id": "b3ebacb2-7282-4095-9bb7-87a72d8aed90",
   "metadata": {},
   "outputs": [],
   "source": [
    "15. How does Pythons garbage collection system work ? \n",
    "=> "
   ]
  },
  {
   "cell_type": "code",
   "execution_count": null,
   "id": "2af52a22-640d-4473-b41c-437d8caabf25",
   "metadata": {},
   "outputs": [],
   "source": [
    "16.What is the purpose of the else block in exception handling ?\n",
    "=>  use case of else -> you want to execute some code only if the tey statement is successful and code doent enter into exception block.\n",
    "    else block is very helpul when your code didnt enter in the exception block \n",
    "    for example you wanted to close the file after it was opened in try block."
   ]
  },
  {
   "cell_type": "code",
   "execution_count": null,
   "id": "bc2ba32b-f339-48d5-abea-8de63f26bad0",
   "metadata": {},
   "outputs": [],
   "source": [
    "17.What are the common logging levels in Python?\n",
    "1. DEBUG => lowest level of logging. To give detailed information of any variable , msg , while doing debugging.\n",
    "2. INFO => This is used to convey that the code is working as expected .\n",
    "3. WARNING => Used to indicate that something unexpected happend or potential issue in the code .\n",
    "4. ERROR => serious problem with some function .\n",
    "5. CRITICAL => Termination  of program / code / software .\n",
    "=>The above level of logging is executed in the same order => debug is the lowest priority and critical should highest priority .\n",
    " while defining level in logging.basicConfig, from that level the logs will be logged or in other words the log priority will start from that level \n",
    " which is used to initialise the logging\n",
    "\n"
   ]
  },
  {
   "cell_type": "code",
   "execution_count": null,
   "id": "136b3be4-d68d-454f-a2f3-07c4baa61c3e",
   "metadata": {},
   "outputs": [],
   "source": [
    "18 What is the difference between os.fork() and multiprocessing in Python ?\n",
    "=> 0s.fork() =>  Creates a child process by duplicating the current process.\n",
    "   Platform: UNIX/Linux only ,Not available on Windows.\n",
    "   Low-level API — Gives you control but you must manage communication and synchronization manually.\n",
    "=> multiprocessing ->  Provides a high-level API to create and manage separate processes.\n",
    "   Platform:Works on all platforms (Windows, Linux, macOS).\n",
    "   Handles process creation, communication, synchronization, etc.\n",
    "   Safer and more portable for general use.       \n"
   ]
  },
  {
   "cell_type": "code",
   "execution_count": null,
   "id": "fcb47326-4f75-4309-99b8-d0cc9fae698e",
   "metadata": {},
   "outputs": [],
   "source": [
    "19. What is the importance of closing a file in Python?\n",
    "=> When you work with files in Python (using open()), its very important to close the file after youre done.\n",
    "    Every open file consumes system memory and file handles.\n",
    "    If too many files stay open, the system can run out of resources.\n",
    "    When writing to a file (write() or append()), data may be stored in a buffer temporarily.\n",
    "   file.close() flushes this buffer and writes everything to the disk.\n",
    "    If not closed properly, some data may not be saved."
   ]
  },
  {
   "cell_type": "code",
   "execution_count": null,
   "id": "257f5e8b-68cc-466a-9878-110ef7a8494c",
   "metadata": {},
   "outputs": [],
   "source": [
    "20.What is the difference between file.read() and file.readline() in Python?\n",
    "=> file.read() => reads entire file and whole string \n",
    "   with open(\"example.txt\",'r') as file:\n",
    "      data = file.read()\n",
    "      print(data)\n",
    "=> file.readline() -> reads a specific line in a file \n",
    "    with open (\"example.txt\",'r') as f:\n",
    "        data = file.readline()\n",
    "        print (data)\n",
    "       \n",
    "   "
   ]
  },
  {
   "cell_type": "code",
   "execution_count": null,
   "id": "52c8aa5b-abaf-4e56-b926-a1dfbf42aaaa",
   "metadata": {},
   "outputs": [],
   "source": [
    "What is the logging module in Python used for? \n",
    "=> It records the state and flow of your program/code/software.\n",
    " it is usefull for understanding , monitoring and debugging of your code \n",
    " it shows how to program behaves over time "
   ]
  },
  {
   "cell_type": "code",
   "execution_count": null,
   "id": "884228c5-9bc0-4da1-9b4a-15df9fe83625",
   "metadata": {},
   "outputs": [],
   "source": [
    " What is the os module in Python used for in file handling?\n",
    "  The os module in Python provides a way to interact with the operating system. When it comes to file handling, it is very useful for\n",
    "   os module use different libraries and directories and with use of this it make our work easier.\n",
    "       print.read()\n",
    "       print.tell()\n",
    "       os.getcwd()\n",
    "\n"
   ]
  },
  {
   "cell_type": "code",
   "execution_count": null,
   "id": "e999635c-30f5-4a48-a8bb-e6586b6667d1",
   "metadata": {},
   "outputs": [],
   "source": [
    "What are the challenges associated with memory management in Python?\n",
    "=>  Python uses reference counting to track memory, but it fails when two or more objects reference each other.\n",
    "    These objects won’t be deleted automatically unless the garbage collector detects and removes them.\n",
    "    Using the wrong data structure (e.g., list instead of set) can use more memory.\n",
    "    Copying large data unnecessarily (e.g., slicing large lists) increases memory pressure.\n",
    "    \n",
    "\n"
   ]
  },
  {
   "cell_type": "code",
   "execution_count": 6,
   "id": "d0a81f33-e87c-4208-886d-1a394888b9d8",
   "metadata": {},
   "outputs": [
    {
     "name": "stdout",
     "output_type": "stream",
     "text": [
      "you have type error as  unsupported operand type(s) for /: 'int' and 'str'\n"
     ]
    },
    {
     "ename": "TypeError",
     "evalue": "unsupported operand type(s) for /: 'int' and 'str'",
     "output_type": "error",
     "traceback": [
      "\u001b[31m---------------------------------------------------------------------------\u001b[39m",
      "\u001b[31mTypeError\u001b[39m                                 Traceback (most recent call last)",
      "\u001b[36mCell\u001b[39m\u001b[36m \u001b[39m\u001b[32mIn[6]\u001b[39m\u001b[32m, line 4\u001b[39m\n\u001b[32m      1\u001b[39m \u001b[38;5;66;03m#How do you raise an exception manually in Python ? \u001b[39;00m\n\u001b[32m      2\u001b[39m  \u001b[38;5;66;03m#you can raise an exception in except block .\u001b[39;00m\n\u001b[32m      3\u001b[39m \u001b[38;5;28;01mtry\u001b[39;00m:\n\u001b[32m----> \u001b[39m\u001b[32m4\u001b[39m    \u001b[32;43m100\u001b[39;49m\u001b[43m/\u001b[49m\u001b[33;43m\"\u001b[39;49m\u001b[33;43mn\u001b[39;49m\u001b[33;43m\"\u001b[39;49m\n\u001b[32m      5\u001b[39m \u001b[38;5;28;01mexcept\u001b[39;00m \u001b[38;5;167;01mTypeError\u001b[39;00m \u001b[38;5;28;01mas\u001b[39;00m e:\n\u001b[32m      6\u001b[39m     \u001b[38;5;28mprint\u001b[39m(\u001b[33m\"\u001b[39m\u001b[33myou have type error as \u001b[39m\u001b[33m\"\u001b[39m,e)\n",
      "\u001b[31mTypeError\u001b[39m: unsupported operand type(s) for /: 'int' and 'str'"
     ]
    }
   ],
   "source": [
    "#How do you raise an exception manually in Python ? \n",
    " #you can raise an exception in except block .\n",
    "try:\n",
    "   100/\"n\"\n",
    "except TypeError as e:\n",
    "    print(\"you have type error as \",e)\n",
    "    raise\n"
   ]
  },
  {
   "cell_type": "code",
   "execution_count": null,
   "id": "24a6d2f5-7459-4414-b3b3-a3c2a8ccf1fb",
   "metadata": {},
   "outputs": [],
   "source": [
    "Why is it important to use multithreading in certain applications?\n",
    "=> Multithreading allows a program to run multiple threads (smaller units of a process) concurrently,\n",
    "   improving performance and responsiveness in many real-world applications.\n",
    "   -> Improves Responsiveness\n",
    "   -> Better Resource Utilization\n",
    "   -> Faster I/O-Bound Tasks\n",
    "   -> Concurrent Processing\n",
    "\n"
   ]
  },
  {
   "cell_type": "code",
   "execution_count": null,
   "id": "f586935f-a157-43b7-99c4-5bfe907b33e6",
   "metadata": {},
   "outputs": [],
   "source": [
    "Practical Questions"
   ]
  },
  {
   "cell_type": "code",
   "execution_count": 10,
   "id": "ade9da74-6b07-41c9-9eec-6a75c45e0739",
   "metadata": {},
   "outputs": [
    {
     "data": {
      "text/plain": [
       "18"
      ]
     },
     "execution_count": 10,
     "metadata": {},
     "output_type": "execute_result"
    }
   ],
   "source": [
    "# 1.How can you open a file for writing in Python and write a string to it ?\n",
    "Noor= open(\"file.txt\",'w')\n",
    "Noor.write(\" Hey Good morning \")\n",
    "Noor.close()\n"
   ]
  },
  {
   "cell_type": "code",
   "execution_count": 12,
   "id": "d42b14dd-dcae-4116-aadb-2953f5f339de",
   "metadata": {},
   "outputs": [
    {
     "name": "stdout",
     "output_type": "stream",
     "text": [
      " Hey Good morning \n"
     ]
    }
   ],
   "source": [
    "#Write a Python program to read the contents of a file and print each line ?\n",
    "Noor = open(\"file.txt\",'r')\n",
    "for o in Noor:\n",
    "    print(o)\n"
   ]
  },
  {
   "cell_type": "code",
   "execution_count": 9,
   "id": "a3779fc0-98cd-4d4e-b2d7-950c23be2236",
   "metadata": {},
   "outputs": [],
   "source": [
    "#How would you handle a case where the file doesnt exist while trying to open it for reading ?\n",
    "try:\n",
    "    f = open(\"nikhil1.txt\",'r')\n",
    "    f.read()\n",
    "except FileNotFoundError as e:  \n",
    "    print(\"File Not exist in directories \",e)\n",
    "    f= open(\"nikhil1.txt\",'w')\n",
    "    print(\"File is created \")\n",
    "    f.close()\n",
    "    f.read()\n"
   ]
  },
  {
   "cell_type": "code",
   "execution_count": 10,
   "id": "0e7337f9-dbcd-4f16-a316-1ccc9a1a2c0c",
   "metadata": {},
   "outputs": [
    {
     "name": "stdout",
     "output_type": "stream",
     "text": [
      "division by zero\n",
      "This will be printed always\n"
     ]
    }
   ],
   "source": [
    "#  How would you catch and handle division by zero error in Python ?\n",
    "try :\n",
    "    5/0 \n",
    "except ZeroDivisionError as e:\n",
    "    print(e)\n",
    "finally :\n",
    "    print(\"This will be printed always\")\n",
    "    \n"
   ]
  },
  {
   "cell_type": "code",
   "execution_count": 22,
   "id": "2ba6bbe9-9543-4814-be9b-1791f74ba282",
   "metadata": {},
   "outputs": [],
   "source": [
    "# Write a Python program that logs an error message to a log file when a division by zero exception occurs ?\n",
    "import logging\n",
    "logging.basicConfig(filename= \"Pwlive_1.log.txt\",level= logging.ERROR,format = '%(asctime)s %(levelname)s %(message)s')\n",
    "try:\n",
    "    num = 80\n",
    "    den = 4\n",
    "    result = num/ den\n",
    "except ZeroDivisionError as e:\n",
    "    logging.error(\"Division by zero error occurred: %s\", e)\n",
    "    print(\"An error occured . Check the log file for details\")\n",
    "    "
   ]
  },
  {
   "cell_type": "code",
   "execution_count": 23,
   "id": "66ca5d29-2b98-4342-b65d-5938dc160436",
   "metadata": {},
   "outputs": [],
   "source": [
    "#How do you log information at different levels (INFO, ERROR, WARNING) in Python using the logging module?\n",
    "import logging\n",
    "logging.basicConfig(filename= \"Noor_New2.log\", level= logging.DEBUG,format = '%(asctime)s %(levelname)s %(message)s')\n",
    "logging.debug(\"This msg is for debugging\")\n",
    "logging.info(\"This is my infi msg \")\n",
    "logging.warning(\"This is my warning msg\")\n",
    "logging.shutdown()\n",
    "                    \n",
    "                    "
   ]
  },
  {
   "cell_type": "code",
   "execution_count": 8,
   "id": "e60c7672-5fa3-4fde-93ae-3fd5070d6ebe",
   "metadata": {},
   "outputs": [
    {
     "name": "stdout",
     "output_type": "stream",
     "text": [
      "The file was not found.\n"
     ]
    }
   ],
   "source": [
    "# Write a program to handle a file opening error using exception handling?\n",
    "try:\n",
    "    with open(\"doob.txt\", \"r\") as file:\n",
    "        content = file.read()\n",
    "        print(content)\n",
    "\n",
    "except FileNotFoundError:\n",
    "    print(\"The file was not found.\")\n",
    "except PermissionError:\n",
    "    print(\"You don't have permission to open this file.\")\n",
    "except Exception as e:\n",
    "    print(f\"An unexpected error occurred: {e}\")"
   ]
  },
  {
   "cell_type": "code",
   "execution_count": 14,
   "id": "ef9702db-4f1d-4a7d-93df-1b187f3fb597",
   "metadata": {},
   "outputs": [
    {
     "name": "stdout",
     "output_type": "stream",
     "text": [
      "['hello exception handling\\n', 'hii pwlive .\\n', 'hello.']\n"
     ]
    }
   ],
   "source": [
    "#How can you read a file line by line and store its content in a list in Python ?\n",
    "with open (\"Noor.txt\",\"r\") as f:\n",
    "    data= f.readlines()\n",
    "print(data)    "
   ]
  },
  {
   "cell_type": "code",
   "execution_count": 20,
   "id": "b6d271ad-6666-4d83-92b2-0b59d914e2cd",
   "metadata": {},
   "outputs": [
    {
     "name": "stdout",
     "output_type": "stream",
     "text": [
      "22\n"
     ]
    }
   ],
   "source": [
    "#How can you append data to an existing file in Python ? \n",
    "f = open (\"Noor.txt\",\"a\")\n",
    "data = f.write(\"this is my new lines.\\n\")\n",
    "print(data)\n",
    "f.close()\n"
   ]
  },
  {
   "cell_type": "code",
   "execution_count": 24,
   "id": "a04005ec-cef2-46ae-b0e6-65ff42fd91fc",
   "metadata": {},
   "outputs": [
    {
     "name": "stdout",
     "output_type": "stream",
     "text": [
      "In Details city not found 'city'\n"
     ]
    }
   ],
   "source": [
    "#Write a Python program that uses a try-except block to handle an error when attempting to access a dictionary key that doesnt exist ?\n",
    "Detials = {\"Name\": \"Ajay\", \"Age\":23,\"Job\":\"SD\"}\n",
    "try:\n",
    "    print(Detials[\"city\"])\n",
    "except KeyError as e:\n",
    "    print(\"In Details city not found\",e)\n",
    "    "
   ]
  },
  {
   "cell_type": "code",
   "execution_count": 25,
   "id": "71841d01-9079-4740-9568-7c7c6f54971d",
   "metadata": {},
   "outputs": [
    {
     "name": "stdout",
     "output_type": "stream",
     "text": [
      "this is zerodivisionerror division by zero\n"
     ]
    }
   ],
   "source": [
    "# Write a program that demonstrates using multiple except blocks to handle different types of exceptions ?\n",
    "try :\n",
    "    100/0\n",
    "except ZeroDivisionError as e:\n",
    "    print (\"this is zerodivisionerror\",e)\n",
    "except Exception as e :\n",
    "    print(e)"
   ]
  },
  {
   "cell_type": "code",
   "execution_count": 26,
   "id": "16d02015-d7a8-4078-9bcb-5553cf50cb21",
   "metadata": {},
   "outputs": [
    {
     "name": "stdout",
     "output_type": "stream",
     "text": [
      "File does not exist.\n"
     ]
    }
   ],
   "source": [
    " # How would you check if a file exists before attempting to read ?\n",
    "import os\n",
    "if os.path.exists(\"Noor5.txt\"):\n",
    "    with open(\"Noor5.txt\", \"r\") as file:\n",
    "        Data = file.read()\n",
    "        print(Data)\n",
    "else:\n",
    "    print(\"File does not exist.\")\n"
   ]
  },
  {
   "cell_type": "code",
   "execution_count": 29,
   "id": "d56a28cb-59c5-496f-87d5-cb7295f93743",
   "metadata": {},
   "outputs": [],
   "source": [
    "#Write a program that uses the logging module to log both informational and error messages ?\n",
    "import logging\n",
    "logging.basicConfig(filename= \"Noor_New2.log\", level= logging.DEBUG,format = '%(asctime)s %(levelname)s %(message)s')\n",
    "logging.info(\"This is my infi msg \")\n",
    "logging.error(\"This file so Error\")\n",
    "logging.shutdown()"
   ]
  },
  {
   "cell_type": "code",
   "execution_count": 34,
   "id": "d787093c-0e03-49d9-bbe3-53b94edb9ce2",
   "metadata": {},
   "outputs": [
    {
     "name": "stdout",
     "output_type": "stream",
     "text": [
      "Error: The file does not exist.\n"
     ]
    }
   ],
   "source": [
    "# Write a Python program that prints the content of a file and handles the case when the file is empty ?\n",
    "try:\n",
    "    with open(\"myfile.txt\", \"r\") as file:\n",
    "        content = file.read()\n",
    "        if content.strip() == \"\":\n",
    "            print(\"The file is empty.\")\n",
    "        else:\n",
    "            print(\"File content:\\n\")\n",
    "            print(content)\n",
    "except FileNotFoundError:\n",
    "    print(\"Error: The file does not exist.\")\n",
    "except Exception as e:\n",
    "    print(f\"An unexpected error occurred: {e}\")\n"
   ]
  },
  {
   "cell_type": "code",
   "execution_count": null,
   "id": "833dac9f-5a12-4dea-be8a-7b24150f8021",
   "metadata": {},
   "outputs": [],
   "source": [
    "Demonstrate how to use memory profiling to check the memory usage of a small program ?\n"
   ]
  },
  {
   "cell_type": "code",
   "execution_count": 37,
   "id": "f32c8a21-bc1f-4c2c-877f-22f273593d80",
   "metadata": {},
   "outputs": [
    {
     "name": "stdout",
     "output_type": "stream",
     "text": [
      "Object `line` not found.\n",
      "data written to 'data.txt'\n"
     ]
    }
   ],
   "source": [
    "Write a Python program to create and write a list of numbers to a file, one number per line?\n",
    "data = [10, 20, 30, 40, 50]\n",
    "with open(\"data.txt\", \"w\") as file:\n",
    "    for data in data:\n",
    "        file.write(str(data) + \"\\n\")\n",
    "\n",
    "print(\"data written to 'data.txt'\")\n"
   ]
  },
  {
   "cell_type": "code",
   "execution_count": null,
   "id": "460f68c6-f649-4543-9bdd-c6af28877ed2",
   "metadata": {},
   "outputs": [],
   "source": []
  },
  {
   "cell_type": "code",
   "execution_count": 39,
   "id": "81d0772c-01c0-4051-8105-d5f4e51ae590",
   "metadata": {},
   "outputs": [
    {
     "name": "stdout",
     "output_type": "stream",
     "text": [
      "List index not found.\n"
     ]
    }
   ],
   "source": [
    "#Write a program that handles both IndexError and KeyError using a try-except block?\n",
    "my_list = [10, 20, 40]\n",
    "my_dict = {\"name\": \"Nikhil\", \"age\": 23}\n",
    "try:\n",
    "    \n",
    "    print(\"List item:\", my_list[5])\n",
    "    print(\"City:\", my_dict[\"city\"])\n",
    "\n",
    "except IndexError:\n",
    "    print(\"List index not found.\")\n",
    "\n",
    "except KeyError:\n",
    "    print(\"Key not found in dictionary.\")\n"
   ]
  },
  {
   "cell_type": "code",
   "execution_count": 41,
   "id": "11100a92-202e-4836-b842-665c4756b167",
   "metadata": {},
   "outputs": [
    {
     "name": "stdout",
     "output_type": "stream",
     "text": [
      "hello exception handling\n",
      "hii pwlive .\n",
      "hello.this is my new lines.\n",
      "this is my new lines.\n",
      "\n"
     ]
    }
   ],
   "source": [
    "#How would you open a file and read its contents using a context manager in Python ? \n",
    "with open(\"Noor.txt\", \"r\") as file:\n",
    "    content = file.read()\n",
    "    print(content)\n"
   ]
  },
  {
   "cell_type": "code",
   "execution_count": 43,
   "id": "72372eb0-56f2-4b61-a967-22de8aa35113",
   "metadata": {},
   "outputs": [],
   "source": [
    "#Write a Python program that reads a file and prints the number of occurrences of a specific word ?\n",
    "def count_word_occurrences(filename, word_to_count):\n",
    "    try:\n",
    "        with open(filename, 'r') as file:\n",
    "            content = file.read().lower()  \n",
    "            word_count = content.split().count(word_to_count.lower())\n",
    "            print(f\"The word '{word_to_count}' occurred {word_count} times in '{filename}'.\")\n",
    "    except FileNotFoundError:\n",
    "        print(\"The file was not found.\")\n",
    "    except Exception as e:\n",
    "        print(f\"An unexpected error occurred: {e}\")\n",
    "\n",
    "\n"
   ]
  },
  {
   "cell_type": "code",
   "execution_count": 46,
   "id": "72de9746-179b-4585-bd5c-41d8be1ba6d0",
   "metadata": {},
   "outputs": [
    {
     "name": "stdout",
     "output_type": "stream",
     "text": [
      "File content:\n",
      " hello exception handling\n",
      "hii pwlive .\n",
      "hello.this is my new lines.\n",
      "this is my new lines.\n",
      "\n"
     ]
    }
   ],
   "source": [
    "#How can you check if a file is empty before attempting to read its content\n",
    "with open(\"noor.txt\", \"r\") as file:\n",
    "    data= file.read()\n",
    "    if not data.strip():\n",
    "        print(\"The file is empty.\")\n",
    "    else:\n",
    "        print(\"File content:\\n\", data)\n",
    "\n"
   ]
  },
  {
   "cell_type": "code",
   "execution_count": 54,
   "id": "82ed8959-b6ba-406e-9f64-063a32bdd79c",
   "metadata": {},
   "outputs": [
    {
     "name": "stdout",
     "output_type": "stream",
     "text": [
      "Error: The file does not exist.\n"
     ]
    }
   ],
   "source": [
    "# Write a Python program that writes to a log file when an error occurs during file handling ?\n",
    "import logging\n",
    "logging.basicConfig(\n",
    "    filename='file_errors.log',\n",
    "    level=logging.ERROR,\n",
    "    format='%(asctime)s - %(levelname)s - %(message)s'\n",
    ")\n",
    "def read_file(filename):\n",
    "    try:\n",
    "        with open(filename, \"r\") as file:\n",
    "            content = file.read()\n",
    "            print(\"File content:\\n\", content)\n",
    "    except FileNotFoundError as e:\n",
    "        logging.error(\"FileNotFoundError: %s\", e)\n",
    "        print(\"Error: The file does not exist.\")\n",
    "    except PermissionError as e:\n",
    "        logging.error(\"PermissionError: %s\", e)\n",
    "        print(\"Error: Permission denied while accessing the file.\")\n",
    "    except Exception as e:\n",
    "        logging.error(\"Unexpected error: %s\", e)\n",
    "        print(\"An unexpected error occurred.\")\n",
    "read_file(\"non_existing_file.txt\")\n",
    "\n",
    "\n",
    "\n"
   ]
  },
  {
   "cell_type": "code",
   "execution_count": null,
   "id": "0cb7c5f8-1288-4c03-b9e1-3f491209799b",
   "metadata": {},
   "outputs": [],
   "source": []
  }
 ],
 "metadata": {
  "kernelspec": {
   "display_name": "Python 3 (ipykernel)",
   "language": "python",
   "name": "python3"
  },
  "language_info": {
   "codemirror_mode": {
    "name": "ipython",
    "version": 3
   },
   "file_extension": ".py",
   "mimetype": "text/x-python",
   "name": "python",
   "nbconvert_exporter": "python",
   "pygments_lexer": "ipython3",
   "version": "3.13.3"
  }
 },
 "nbformat": 4,
 "nbformat_minor": 5
}
